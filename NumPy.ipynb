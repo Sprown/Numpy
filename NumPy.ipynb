{
 "cells": [
  {
   "cell_type": "code",
   "execution_count": 1,
   "id": "e6e67e64-bad4-43d6-8d44-5cd688e71f9b",
   "metadata": {},
   "outputs": [
    {
     "name": "stdout",
     "output_type": "stream",
     "text": [
      "int64\n"
     ]
    }
   ],
   "source": [
    "#1. Create a NumPy array 'arr' of integers from 0 to 5 and print its data type.\n",
    "import numpy as np\n",
    "arr = np.array([0, 1, 2, 3, 4, 5])\n",
    "print(arr.dtype)"
   ]
  },
  {
   "cell_type": "code",
   "execution_count": 2,
   "id": "688fd658-ebe9-4093-8bdd-3d0c010f30a6",
   "metadata": {},
   "outputs": [
    {
     "name": "stdout",
     "output_type": "stream",
     "text": [
      "True\n"
     ]
    }
   ],
   "source": [
    "#2. Given a NumPy array 'arr', check if its data type is float64.\n",
    "arr = np.array([1.5, 2.6, 3.7])\n",
    "print(arr.dtype == np.float64)"
   ]
  },
  {
   "cell_type": "code",
   "execution_count": 3,
   "id": "9909fd96-2221-4ec9-9277-48ed41b6d509",
   "metadata": {},
   "outputs": [
    {
     "name": "stdout",
     "output_type": "stream",
     "text": [
      "[1.+2.j 3.+4.j 5.+6.j]\n"
     ]
    }
   ],
   "source": [
    "#3. Create a NumPy array 'arr' with a data type of complex128 containing three complex numbers.\n",
    "arr = np.array([1+2j, 3+4j, 5+6j], dtype=np.complex128)\n",
    "print(arr)"
   ]
  },
  {
   "cell_type": "code",
   "execution_count": 4,
   "id": "3ba9fcfa-c6ef-4215-a335-f505b0c6a772",
   "metadata": {},
   "outputs": [
    {
     "name": "stdout",
     "output_type": "stream",
     "text": [
      "[1. 2. 3. 4. 5.]\n"
     ]
    }
   ],
   "source": [
    "#4. Convert an existing NumPy array 'arr' of integers to float32 data type.\n",
    "arr = np.array([1, 2, 3, 4, 5], dtype=np.int32)\n",
    "arr = arr.astype(np.float32)\n",
    "print(arr)"
   ]
  },
  {
   "cell_type": "code",
   "execution_count": 5,
   "id": "fc80ffb6-bfc1-4a83-91a1-0649fa7aa31a",
   "metadata": {},
   "outputs": [
    {
     "name": "stdout",
     "output_type": "stream",
     "text": [
      "[1.1 2.2 3.3]\n"
     ]
    }
   ],
   "source": [
    "#5. Given a NumPy array 'arr' with float64 data type, convert it to float32 to reduce decimal precision.\n",
    "arr = np.array([1.1, 2.2, 3.3], dtype=np.float64)\n",
    "arr = arr.astype(np.float32)\n",
    "print(arr)"
   ]
  },
  {
   "cell_type": "code",
   "execution_count": 6,
   "id": "d1908c41-17a0-461b-ab33-8807942e3e6e",
   "metadata": {},
   "outputs": [],
   "source": [
    "#6. Write a function array_attributes that takes a NumPy array as input and returns its shape, size, and data type.\n",
    "def array_attributes(arr):\n",
    "    return arr.shape, arr.size, arr.dtype"
   ]
  },
  {
   "cell_type": "code",
   "execution_count": 7,
   "id": "5076e087-500a-4a70-b7e1-f46083c3142b",
   "metadata": {},
   "outputs": [],
   "source": [
    "#7. Create a function array_dimension that takes a NumPy array as input and returns its dimensionality.\n",
    "def array_dimension(arr):\n",
    "    return arr.ndim"
   ]
  },
  {
   "cell_type": "code",
   "execution_count": 8,
   "id": "2ae75fe3-a82e-4326-9a08-edd2b2220e36",
   "metadata": {},
   "outputs": [],
   "source": [
    "#8. Design a function item_size_info that takes a NumPy array as input and returns the item size and the total size in bytes.\n",
    "def item_size_info(arr):\n",
    "    return arr.itemsize, arr.nbytes"
   ]
  },
  {
   "cell_type": "code",
   "execution_count": 9,
   "id": "ca31c0bd-5b83-44ed-9d52-31cd471a6a2c",
   "metadata": {},
   "outputs": [],
   "source": [
    "#9. Create a function array_strides that takes a NumPy array as input and returns the strides of the array.\n",
    "def array_strides(arr):\n",
    "    return arr.strides"
   ]
  },
  {
   "cell_type": "code",
   "execution_count": 10,
   "id": "d5c34ace-7af3-4932-a067-9f94d4084696",
   "metadata": {},
   "outputs": [],
   "source": [
    "#10. Design a function shape_stride_relationship that takes a NumPy array as input and returns the shape and strides of the array.\n",
    "def shape_stride_relationship(arr):\n",
    "    return arr.shape, arr.strides"
   ]
  },
  {
   "cell_type": "code",
   "execution_count": 11,
   "id": "892d8638-3a09-4a5b-82ff-ec7afaf960e9",
   "metadata": {},
   "outputs": [],
   "source": [
    "#11. Create a function create_zeros_array that takes an integer 'n' as input and returns a NumPy array of zeros with 'n' elements.\n",
    "def create_zeros_array(n):\n",
    "    return np.zeros(n)"
   ]
  },
  {
   "cell_type": "code",
   "execution_count": 12,
   "id": "dc2ddb13-5d4f-4b5e-8dc5-cc1bb8c4725f",
   "metadata": {},
   "outputs": [],
   "source": [
    "#12. Write a function create_ones_matrix that takes integers 'rows' and 'cols' as inputs and generates a 2D NumPy array filled with ones of size 'rows x cols'.\n",
    "def create_ones_matrix(rows, cols):\n",
    "    return np.ones((rows, cols))"
   ]
  },
  {
   "cell_type": "code",
   "execution_count": 13,
   "id": "20397234-82eb-4626-ac6a-b8eb2d5ab379",
   "metadata": {},
   "outputs": [],
   "source": [
    "#13. Write a function generate_range_array that takes three integers start, stop, and step as arguments and creates a NumPy array with a range starting from start, ending at stop (exclusive), and with the specified step.\n",
    "def generate_range_array(start, stop, step):\n",
    "    return np.arange(start, stop, step)"
   ]
  },
  {
   "cell_type": "code",
   "execution_count": 14,
   "id": "3812fca5-2a54-49e6-94f7-92196e2b1025",
   "metadata": {},
   "outputs": [],
   "source": [
    "#14. Design a function generate_linear_space that takes two floats 'start', 'stop', and an integer 'num' as arguments and generates a NumPy array with num equally spaced values between 'start' and 'stop' (inclusive).\n",
    "def generate_linear_space(start, stop, num):\n",
    "    return np.linspace(start, stop, num)"
   ]
  },
  {
   "cell_type": "code",
   "execution_count": 15,
   "id": "8aca3136-e7f5-419b-842a-897fb25bf305",
   "metadata": {},
   "outputs": [],
   "source": [
    "#15. Create a function create_identity_matrix that takes an integer 'n' as input and generates a square identity matrix of size 'n x n' using numpy.eye.\n",
    "def create_identity_matrix(n):\n",
    "    return np.eye(n)"
   ]
  },
  {
   "cell_type": "code",
   "execution_count": 16,
   "id": "cf65df47-28a9-4558-91fa-09daafe37388",
   "metadata": {},
   "outputs": [],
   "source": [
    "#16. Write a function that takes a Python list and converts it into a NumPy array.\n",
    "def list_to_array(lst):\n",
    "    return np.array(lst)"
   ]
  },
  {
   "cell_type": "code",
   "execution_count": 17,
   "id": "64ea37eb-2b88-4836-bf13-fe2a6cbfa57c",
   "metadata": {},
   "outputs": [
    {
     "name": "stdout",
     "output_type": "stream",
     "text": [
      "[1 2 3 4 5]\n"
     ]
    }
   ],
   "source": [
    "#17. Create a NumPy array and demonstrate the use of numpy.view to create a new array object with the same data.\n",
    "arr = np.array([1, 2, 3, 4, 5])\n",
    "view = arr.view()\n",
    "print(view)"
   ]
  },
  {
   "cell_type": "code",
   "execution_count": 18,
   "id": "94c9c4d1-4386-4092-9137-0326e5e067f8",
   "metadata": {},
   "outputs": [],
   "source": [
    "#18. Write a function that takes two NumPy arrays and concatenates them along a specified axis.\n",
    "def concatenate_arrays(arr1, arr2, axis=0):\n",
    "    return np.concatenate((arr1, arr2), axis=axis)"
   ]
  },
  {
   "cell_type": "code",
   "execution_count": 19,
   "id": "fc18bad3-8bad-4841-befd-86a9ec051807",
   "metadata": {},
   "outputs": [
    {
     "name": "stdout",
     "output_type": "stream",
     "text": [
      "[[1 2 5 6]\n",
      " [3 4 7 8]]\n"
     ]
    }
   ],
   "source": [
    "#19. Create two NumPy arrays with different shapes and concatenate them horizontally using numpy.concatenate.\n",
    "arr1 = np.array([[1, 2], [3, 4]])\n",
    "arr2 = np.array([[5, 6], [7, 8]])\n",
    "result = np.concatenate((arr1, arr2), axis=1)\n",
    "print(result)"
   ]
  },
  {
   "cell_type": "code",
   "execution_count": 20,
   "id": "4b8bcdd5-4bb5-4caa-bc93-eacd8752bd4f",
   "metadata": {},
   "outputs": [],
   "source": [
    "#20. Write a function that vertically stacks multiple NumPy arrays given as a list.\n",
    "def vertical_stack(arr_list):\n",
    "    return np.vstack(arr_list)"
   ]
  },
  {
   "cell_type": "code",
   "execution_count": 21,
   "id": "eabc675c-53ac-41c2-8daf-2997af866f4a",
   "metadata": {},
   "outputs": [],
   "source": [
    "#21. Write a Python function using NumPy to create an array of integers within a specified range (inclusive) with a given step size.\n",
    "def range_array(start, stop, step):\n",
    "    return np.arange(start, stop + 1, step)"
   ]
  },
  {
   "cell_type": "code",
   "execution_count": 22,
   "id": "3ab64928-8efc-4675-ad8d-417a3dc3aa55",
   "metadata": {},
   "outputs": [],
   "source": [
    "#22. Write a Python function using NumPy to generate an array of 10 equally spaced values between 0 and 1 (inclusive).\n",
    "def equally_spaced_array():\n",
    "    return np.linspace(0, 1, 10)"
   ]
  },
  {
   "cell_type": "code",
   "execution_count": 23,
   "id": "e7bff377-f035-4f83-a1d1-b7a82e9fa8b3",
   "metadata": {},
   "outputs": [],
   "source": [
    "#23. Write a Python function using NumPy to create an array of 5 logarithmically spaced values between 1 and 1000 (inclusive).\n",
    "def log_space_array():\n",
    "    return np.logspace(0, 3, 5)"
   ]
  },
  {
   "cell_type": "code",
   "execution_count": 24,
   "id": "f8e03148-b3c2-4496-b995-ca48abf60d66",
   "metadata": {},
   "outputs": [
    {
     "name": "stdout",
     "output_type": "stream",
     "text": [
      "    0   1   2\n",
      "0  21  21  18\n",
      "1  56  24  41\n",
      "2  94  20  84\n",
      "3  10  77  23\n",
      "4  42   4  57\n"
     ]
    }
   ],
   "source": [
    "#24. Create a Pandas DataFrame using a NumPy array that contains 5 rows and 3 columns, where the values are random integers between 1 and 100.\n",
    "import pandas as pd\n",
    "data = np.random.randint(1, 101, size=(5, 3))\n",
    "df = pd.DataFrame(data)\n",
    "print(df)"
   ]
  },
  {
   "cell_type": "code",
   "execution_count": 25,
   "id": "6e95e92c-07dd-442f-9014-739adf769b9a",
   "metadata": {},
   "outputs": [],
   "source": [
    "#25. Write a function that takes a Pandas DataFrame and replaces all negative values in a specific column with zeros. Use NumPy operations within the Pandas DataFrame.\n",
    "def replace_negatives(df, column):\n",
    "    df[column] = np.where(df[column] < 0, 0, df[column])\n",
    "    return df"
   ]
  },
  {
   "cell_type": "code",
   "execution_count": 26,
   "id": "42f18267-956f-4e61-a058-77c1b16bab0d",
   "metadata": {},
   "outputs": [
    {
     "name": "stdout",
     "output_type": "stream",
     "text": [
      "30\n"
     ]
    }
   ],
   "source": [
    "#26. Access the 3rd element from the given NumPy array.\n",
    "arr = np.array([18, 20, 30, 40, 50])\n",
    "print(arr[2])"
   ]
  },
  {
   "cell_type": "code",
   "execution_count": 27,
   "id": "4add4c8b-ebed-4aa4-bb3d-b12a92531e38",
   "metadata": {},
   "outputs": [
    {
     "name": "stdout",
     "output_type": "stream",
     "text": [
      "6\n"
     ]
    }
   ],
   "source": [
    "#27. Retrieve the element at index (1, 2) from the 2D NumPy array.\n",
    "arr_2d = np.array([[1, 2, 3], [4, 5, 6], [7, 8, 9]])\n",
    "print(arr_2d[1, 2])"
   ]
  },
  {
   "cell_type": "code",
   "execution_count": 28,
   "id": "5597be6a-7705-4d77-93d4-84130fc3124b",
   "metadata": {},
   "outputs": [
    {
     "name": "stdout",
     "output_type": "stream",
     "text": [
      "[ 8 10  7]\n"
     ]
    }
   ],
   "source": [
    "#28. Using boolean indexing, extract elements greater than 5 from the given NumPy array.\n",
    "arr = np.array([3, 8, 2, 10, 5, 7])\n",
    "print(arr[arr > 5])"
   ]
  },
  {
   "cell_type": "code",
   "execution_count": 29,
   "id": "ec3a2240-1baf-47bf-930e-185650af2186",
   "metadata": {},
   "outputs": [
    {
     "name": "stdout",
     "output_type": "stream",
     "text": [
      "[3 4 5 6]\n"
     ]
    }
   ],
   "source": [
    "#29. Perform basic slicing to extract elements from index 2 to 5 (inclusive) from the given NumPy array.\n",
    "arr = np.array([1, 2, 3, 4, 5, 6, 7, 8, 9])\n",
    "print(arr[2:6])"
   ]
  },
  {
   "cell_type": "code",
   "execution_count": 30,
   "id": "092f77b5-3db8-4765-bb02-be1cfe8f9340",
   "metadata": {},
   "outputs": [
    {
     "name": "stdout",
     "output_type": "stream",
     "text": [
      "[[5 6]\n",
      " [8 9]]\n"
     ]
    }
   ],
   "source": [
    "#30. Slice the 2D NumPy array to extract the sub-array [[2, 3], [5, 6]] from the given array.\n",
    "arr_2d = np.array([[1, 2, 3], [4, 5, 6], [7, 8, 9]])\n",
    "print(arr_2d[1:3, 1:3])"
   ]
  },
  {
   "cell_type": "code",
   "execution_count": 31,
   "id": "43a223f9-ff3e-4281-9d25-d776d9262040",
   "metadata": {},
   "outputs": [],
   "source": [
    "#31. Write a NumPy function to extract elements in specific order from a given 2D array based on indices provided in another array.\n",
    "def extract_by_indices(arr, indices):\n",
    "    return arr[indices]"
   ]
  },
  {
   "cell_type": "code",
   "execution_count": 32,
   "id": "6ea245dd-625d-4d4b-8ad6-47d2f833c31c",
   "metadata": {},
   "outputs": [],
   "source": [
    "#32. Create a NumPy function that filters elements greater than a threshold from a given array using boolean indexing.\n",
    "def filter_greater_than(arr, threshold):\n",
    "    return arr[arr > threshold]"
   ]
  },
  {
   "cell_type": "code",
   "execution_count": 33,
   "id": "4cf1353f-c251-431e-92e1-c81a6808caa2",
   "metadata": {},
   "outputs": [],
   "source": [
    "#33. Develop a NumPy function that extracts specific elements from a 3D array using indices provided in three separate arrays for each dimension.\n",
    "def extract_3d_elements(arr, x_indices, y_indices, z_indices):\n",
    "    return arr[x_indices, y_indices, z_indices]"
   ]
  },
  {
   "cell_type": "code",
   "execution_count": 34,
   "id": "dfacfb95-cb5c-4570-a340-96e5ec4268f2",
   "metadata": {},
   "outputs": [],
   "source": [
    "#34. Write a NumPy function that returns elements from an array where both two conditions are satisfied using boolean indexing.\n",
    "def filter_two_conditions(arr, cond1, cond2):\n",
    "    return arr[cond1 & cond2]"
   ]
  },
  {
   "cell_type": "code",
   "execution_count": 35,
   "id": "6e89c633-16c7-472d-891d-0f32011e6fd4",
   "metadata": {},
   "outputs": [],
   "source": [
    "#35. Create a NumPy function that extracts elements from a 2D array using row and column indices provided in separate arrays.\n",
    "def extract_2d_elements(arr, row_indices, col_indices):\n",
    "    return arr[row_indices, col_indices]"
   ]
  },
  {
   "cell_type": "code",
   "execution_count": 36,
   "id": "8bc10b46-3df6-4627-840d-6a462caabdc5",
   "metadata": {},
   "outputs": [
    {
     "name": "stdout",
     "output_type": "stream",
     "text": [
      "[[ 6  7  8]\n",
      " [ 9 10 11]\n",
      " [12 13 14]]\n"
     ]
    }
   ],
   "source": [
    "#36. Given an array arr of shape (3, 3), add a scalar value of 5 to each element using NumPy broadcasting.\n",
    "arr = np.array([[1, 2, 3], [4, 5, 6], [7, 8, 9]])\n",
    "result = arr + 5\n",
    "print(result)"
   ]
  },
  {
   "cell_type": "code",
   "execution_count": 37,
   "id": "276554ea-c9f5-4560-ad76-ea94deac58d8",
   "metadata": {},
   "outputs": [
    {
     "name": "stdout",
     "output_type": "stream",
     "text": [
      "[[ 1  2  3  4]\n",
      " [10 12 14 16]\n",
      " [27 30 33 36]]\n"
     ]
    }
   ],
   "source": [
    "#37. Consider two arrays arr1 of shape (1, 3) and arr2 of shape (3, 4). Multiply each row of arr2 by the corresponding element in arr1 using NumPy broadcasting.\n",
    "arr1 = np.array([[1, 2, 3]])  # shape (1, 3)\n",
    "arr2 = np.array([[1, 2, 3, 4], [5, 6, 7, 8], [9, 10, 11, 12]])  # shape (3, 4)\n",
    "arr1_reshaped = arr1.T  # transpose to shape (3, 1)\n",
    "result = arr2 * arr1_reshaped\n",
    "print(result)\n"
   ]
  },
  {
   "cell_type": "code",
   "execution_count": 38,
   "id": "2ffee7d8-93f1-4a0d-8942-e9f503418338",
   "metadata": {},
   "outputs": [
    {
     "name": "stdout",
     "output_type": "stream",
     "text": [
      "[[ 6  8 10  4]\n",
      " [ 9 11 13  4]\n",
      " [12 14 16  4]\n",
      " [15 17 19  4]]\n"
     ]
    }
   ],
   "source": [
    "#38. Given a 2D array arr1 of shape (1, 4) and a 2D array arr2 of shape (4, 3), add arr1 to each row of arr2 using NumPy broadcasting.\n",
    "arr1 = np.array([[1, 2, 3, 4]])  # shape (1, 4)\n",
    "arr2 = np.array([[5, 6, 7], [8, 9, 10], [11, 12, 13], [14, 15, 16]])\n",
    "arr1_reshaped = np.array([[1, 2, 3, 4]])  \n",
    "arr2_padded = np.pad(arr2, ((0, 0), (0, 1)), mode='constant', constant_values=0)\n",
    "result = arr2_padded + arr1_reshaped\n",
    "print(result)"
   ]
  },
  {
   "cell_type": "code",
   "execution_count": 39,
   "id": "47e8ff1f-5e4b-412e-98fa-70dd12749eb2",
   "metadata": {},
   "outputs": [
    {
     "name": "stdout",
     "output_type": "stream",
     "text": [
      "[[5 6 7]\n",
      " [6 7 8]\n",
      " [7 8 9]]\n"
     ]
    }
   ],
   "source": [
    "#39. Consider two arrays arr1 of shape (3, 1) and arr2 of shape (1, 3). Add these arrays using NumPy broadcasting.\n",
    "arr1 = np.array([[1], [2], [3]])\n",
    "arr2 = np.array([[4, 5, 6]])\n",
    "result = arr1 + arr2\n",
    "print(result)"
   ]
  },
  {
   "cell_type": "code",
   "execution_count": 40,
   "id": "b4c40440-c821-4b22-9e17-e1fc85197c80",
   "metadata": {},
   "outputs": [
    {
     "name": "stdout",
     "output_type": "stream",
     "text": [
      "[[ 1  4]\n",
      " [12 20]]\n"
     ]
    }
   ],
   "source": [
    "#40. Given arrays arr1 of shape (2, 3) and arr2 of shape (2, 2), perform multiplication using NumPy broadcasting. Handle the shape incompatibility.\n",
    "arr1 = np.array([[1, 2, 3], [4, 5, 6]])\n",
    "arr2 = np.array([[1, 2], [3, 4]])\n",
    "result = arr1[:, :2] * arr2\n",
    "print(result)"
   ]
  },
  {
   "cell_type": "code",
   "execution_count": 41,
   "id": "b43d2cdf-ddcd-4e92-a11c-bfa87ea1b10e",
   "metadata": {},
   "outputs": [
    {
     "name": "stdout",
     "output_type": "stream",
     "text": [
      "[2.5 3.5 4.5]\n"
     ]
    }
   ],
   "source": [
    "#41. Calculate column-wise mean for the given array.\n",
    "arr = np.array([[1, 2, 3], [4, 5, 6]])\n",
    "print(np.mean(arr, axis=0))"
   ]
  },
  {
   "cell_type": "code",
   "execution_count": 42,
   "id": "0b1e6aec-d567-4bcc-82a7-32df1281b0f2",
   "metadata": {},
   "outputs": [
    {
     "name": "stdout",
     "output_type": "stream",
     "text": [
      "[3 6]\n"
     ]
    }
   ],
   "source": [
    "#42. Find maximum value in each row of the given array.\n",
    "arr = np.array([[1, 2, 3], [4, 5, 6]])\n",
    "print(np.max(arr, axis=1))"
   ]
  },
  {
   "cell_type": "code",
   "execution_count": 43,
   "id": "4ae515cb-6d7e-439f-a85a-be4826f5d421",
   "metadata": {},
   "outputs": [
    {
     "name": "stdout",
     "output_type": "stream",
     "text": [
      "[1 1 1]\n"
     ]
    }
   ],
   "source": [
    "#43. For the given array, find indices of maximum value in each column.\n",
    "arr = np.array([[1, 2, 3], [4, 5, 6]])\n",
    "print(np.argmax(arr, axis=0))"
   ]
  },
  {
   "cell_type": "code",
   "execution_count": 44,
   "id": "66891d7c-786f-4412-a4ed-1bb2cd4398d8",
   "metadata": {},
   "outputs": [
    {
     "name": "stdout",
     "output_type": "stream",
     "text": [
      "[[ 3.  5.]\n",
      " [ 9. 11.]]\n"
     ]
    }
   ],
   "source": [
    "# 44. For the given array, apply custom function to calculate moving sum along rows.\n",
    "arr = np.array([[1, 2, 3], [4, 5, 6]])\n",
    "\n",
    "def moving_sum(arr, window_size):\n",
    "    result = []\n",
    "    for row in arr:\n",
    "        convolved = np.convolve(row, np.ones(window_size), 'valid')\n",
    "        result.append(convolved)\n",
    "    return np.array(result)\n",
    "\n",
    "result = moving_sum(arr, window_size=2)\n",
    "print(result)"
   ]
  },
  {
   "cell_type": "code",
   "execution_count": 45,
   "id": "b93dd215-c918-4f88-bce8-a264846946cf",
   "metadata": {},
   "outputs": [
    {
     "name": "stdout",
     "output_type": "stream",
     "text": [
      "[False False False]\n"
     ]
    }
   ],
   "source": [
    "#45. In the given array, check if all elements in each column are even.\n",
    "arr = np.array([[2, 4, 6], [3, 5, 7]])\n",
    "print(np.all(arr % 2 == 0, axis=0))"
   ]
  },
  {
   "cell_type": "code",
   "execution_count": 46,
   "id": "60306eb8-85c0-4e78-b205-62bd16ba9263",
   "metadata": {},
   "outputs": [
    {
     "name": "stdout",
     "output_type": "stream",
     "text": [
      "[[ 6  7  8]\n",
      " [ 9 10 11]\n",
      " [12 13 14]]\n"
     ]
    }
   ],
   "source": [
    "#46. Given an array arr of shape (3, 3), add a scalar value of 5 to each element using NumPy broadcasting.\n",
    "arr = np.array([[1, 2, 3], [4, 5, 6], [7, 8, 9]])\n",
    "print(arr + 5)"
   ]
  },
  {
   "cell_type": "code",
   "execution_count": 47,
   "id": "97081572-ca2c-4d73-9a4e-ab8984a97820",
   "metadata": {},
   "outputs": [],
   "source": [
    "#47. Create a function that takes a matrix as input and returns the flattened array.\n",
    "def flatten_matrix(matrix):\n",
    "    return matrix.flatten()"
   ]
  },
  {
   "cell_type": "code",
   "execution_count": 48,
   "id": "d4c6a6ca-1506-4795-b79d-63fc73aff079",
   "metadata": {},
   "outputs": [],
   "source": [
    "#48. Write a function that concatenates two given arrays along a specified axis.\n",
    "def concat_arrays(arr1, arr2, axis=0):\n",
    "    return np.concatenate((arr1, arr2), axis=axis)"
   ]
  },
  {
   "cell_type": "code",
   "execution_count": 49,
   "id": "f0736a55-c9c8-42dd-a747-523df1e9a396",
   "metadata": {},
   "outputs": [],
   "source": [
    "#49. Create a function that splits an array into multiple sub-arrays along a specified axis.\n",
    "def split_array(arr, indices, axis=0):\n",
    "    return np.split(arr, indices, axis=axis)"
   ]
  },
  {
   "cell_type": "code",
   "execution_count": 50,
   "id": "7084e04d-cece-4f0f-b5c7-b7f9e0e5807e",
   "metadata": {},
   "outputs": [],
   "source": [
    "#50. Write a function that inserts and then deletes elements from a given array at specified indices.\n",
    "def modify_array(arr, indices_to_insert, values_to_insert, indices_to_delete):\n",
    "    arr = np.insert(arr, indices_to_insert, values_to_insert)\n",
    "    arr = np.delete(arr, indices_to_delete)\n",
    "    return arr"
   ]
  },
  {
   "cell_type": "code",
   "execution_count": 51,
   "id": "39bf270c-2f43-4743-8cf5-67eb3476dee3",
   "metadata": {},
   "outputs": [
    {
     "name": "stdout",
     "output_type": "stream",
     "text": [
      "[[ 3  4  9]\n",
      " [ 8 15 15]\n",
      " [10 11 14]]\n"
     ]
    }
   ],
   "source": [
    "#51. Create a NumPy array 'arr1' with random integers and another array 'arr2' with integers from 1 to 10. Perform element-wise addition between 'arr1' and 'arr2'.\n",
    "arr1 = np.random.randint(1, 11, size=(3, 3))\n",
    "arr2 = np.arange(1, 10).reshape(3, 3)\n",
    "result = arr1 + arr2\n",
    "print(result)"
   ]
  },
  {
   "cell_type": "code",
   "execution_count": 52,
   "id": "f4e53ce9-0bca-4e96-8214-a683359a0453",
   "metadata": {},
   "outputs": [
    {
     "name": "stdout",
     "output_type": "stream",
     "text": [
      "[ 9  7  5  3  1 -1 -3 -5 -7 -9]\n"
     ]
    }
   ],
   "source": [
    "#52. Generate a NumPy array 'arr1' with sequential integers from 10 to 1 and another array 'arr2' with integers from 1 to 10. Subtract 'arr2' from 'arr1' element-wise.\n",
    "arr1 = np.arange(10, 0, -1)\n",
    "arr2 = np.arange(1, 11)\n",
    "result = arr1 - arr2\n",
    "print(result)"
   ]
  },
  {
   "cell_type": "code",
   "execution_count": 53,
   "id": "3c85f206-a8f1-4e1b-a2e1-5a5edccd2004",
   "metadata": {},
   "outputs": [
    {
     "name": "stdout",
     "output_type": "stream",
     "text": [
      "arr1:\n",
      " [[2 2 2]\n",
      " [5 5 1]\n",
      " [4 1 4]]\n",
      "arr2:\n",
      " [[1 2 3]]\n",
      "result:\n",
      " [[ 2  4  6]\n",
      " [ 5 10  3]\n",
      " [ 4  2 12]]\n"
     ]
    }
   ],
   "source": [
    "#53. Create a NumPy array 'arr1' with random integers and another array 'arr2' with integers from 1 to 5. Perform element-wise multiplication between 'arr1' and 'arr2'.\n",
    "arr1 = np.random.randint(1, 6, size=(3, 3))\n",
    "arr2 = np.arange(1, 4)  # shape (3,)\n",
    "arr2_reshaped = arr2.reshape(1, 3)\n",
    "result = arr1 * arr2_reshaped\n",
    "print(\"arr1:\\n\", arr1)\n",
    "print(\"arr2:\\n\", arr2_reshaped)\n",
    "print(\"result:\\n\", result)"
   ]
  },
  {
   "cell_type": "code",
   "execution_count": 54,
   "id": "c08d6e2e-b9b1-4340-88ae-0cd288b62cca",
   "metadata": {},
   "outputs": [
    {
     "name": "stdout",
     "output_type": "stream",
     "text": [
      "[2. 2. 2. 2. 2.]\n"
     ]
    }
   ],
   "source": [
    "#54. Generate a NumPy array 'arr1' with even integers from 2 to 10 and another array 'arr2' with integers from 1 to 5. Perform element-wise division of 'arr1' by 'arr2'.\n",
    "arr1 = np.arange(2, 11, 2)\n",
    "arr2 = np.arange(1, 6)\n",
    "result = arr1 / arr2\n",
    "print(result)"
   ]
  },
  {
   "cell_type": "code",
   "execution_count": 55,
   "id": "e0a69784-903f-4726-a38d-5fecf8cdf7d4",
   "metadata": {},
   "outputs": [
    {
     "name": "stdout",
     "output_type": "stream",
     "text": [
      "[ 1 16 27 16  5]\n"
     ]
    }
   ],
   "source": [
    "#55. Create a NumPy array 'arr1' with integers from 1 to 5 and another array 'arr2' with the same numbers reversed. Calculate the exponentiation of 'arr1' raised to the power of 'arr2' element-wise.\n",
    "arr1 = np.arange(1, 6)\n",
    "arr2 = arr1[::-1]\n",
    "result = np.power(arr1, arr2)\n",
    "print(result)"
   ]
  },
  {
   "cell_type": "code",
   "execution_count": 56,
   "id": "9aa8f2a3-e3d7-4b64-8d68-9f7051c9797b",
   "metadata": {},
   "outputs": [],
   "source": [
    "#56. Write a function that counts the occurrences of a specific substring within a NumPy array of strings.\n",
    "def count_substring(arr, substring):\n",
    "    return np.sum(np.char.find(arr, substring) != -1)"
   ]
  },
  {
   "cell_type": "code",
   "execution_count": 57,
   "id": "6df07003-1cb8-4492-967f-c7539f6a1c75",
   "metadata": {},
   "outputs": [],
   "source": [
    "#57. Write a function that extracts uppercase characters from a NumPy array of strings.\n",
    "def extract_uppercase(arr):\n",
    "    return np.array([s for s in arr if any(c.isupper() for c in s)])"
   ]
  },
  {
   "cell_type": "code",
   "execution_count": 58,
   "id": "5db12398-f10d-4f4b-bfd7-1f05de18e10e",
   "metadata": {},
   "outputs": [],
   "source": [
    "#58. Write a function that replaces occurrences of a substring in a NumPy array of strings with a new string.\n",
    "def replace_substring(arr, old, new):\n",
    "    return np.char.replace(arr, old, new)"
   ]
  },
  {
   "cell_type": "code",
   "execution_count": 59,
   "id": "f2ac8748-9f3e-4896-b0fd-7640431198f4",
   "metadata": {},
   "outputs": [],
   "source": [
    "#59. Write a function that concatenates strings in a NumPy array element-wise.\n",
    "def concat_strings(arr1, arr2):\n",
    "    return np.char.add(arr1, arr2)"
   ]
  },
  {
   "cell_type": "code",
   "execution_count": 60,
   "id": "abc44b61-9331-4f8e-8b81-424ab25a8538",
   "metadata": {},
   "outputs": [],
   "source": [
    "#60. Write a function that finds the length of the longest string in a NumPy array.\n",
    "def max_string_length(arr):\n",
    "    return np.max(np.char.str_len(arr))"
   ]
  },
  {
   "cell_type": "code",
   "execution_count": 61,
   "id": "37e12b8d-9f50-4d14-8c94-393257006835",
   "metadata": {},
   "outputs": [
    {
     "name": "stdout",
     "output_type": "stream",
     "text": [
      "492.82 505.5 83924.82760000002 289.69782118614563\n"
     ]
    }
   ],
   "source": [
    "#61. Create a dataset of 100 random integers between 1 and 1000. Compute the mean, median, variance, and standard deviation of the dataset using NumPy's functions.\n",
    "data = np.random.randint(1, 1001, 100)\n",
    "mean = np.mean(data)\n",
    "median = np.median(data)\n",
    "variance = np.var(data)\n",
    "std_dev = np.std(data)\n",
    "print(mean, median, variance, std_dev)"
   ]
  },
  {
   "cell_type": "code",
   "execution_count": 62,
   "id": "1ff27bc1-0d5d-4f4e-9b9d-d16a12aad99d",
   "metadata": {},
   "outputs": [
    {
     "name": "stdout",
     "output_type": "stream",
     "text": [
      "40.25 81.5\n"
     ]
    }
   ],
   "source": [
    "#62. Generate an array of 50 random numbers between 1 and 100. Find the 25th and 75th percentiles of the dataset.\n",
    "data = np.random.randint(1, 101, 50)\n",
    "percentile_25 = np.percentile(data, 25)\n",
    "percentile_75 = np.percentile(data, 75)\n",
    "print(percentile_25, percentile_75)"
   ]
  },
  {
   "cell_type": "code",
   "execution_count": 63,
   "id": "614533dc-abf7-475a-a5d3-bb5941109ced",
   "metadata": {},
   "outputs": [
    {
     "name": "stdout",
     "output_type": "stream",
     "text": [
      "0.12030984482951708\n"
     ]
    }
   ],
   "source": [
    "#63. Create two arrays representing two sets of variables. Compute the correlation coefficient between these arrays using NumPy's corrcoef function.\n",
    "arr1 = np.random.rand(10)\n",
    "arr2 = np.random.rand(10)\n",
    "corr = np.corrcoef(arr1, arr2)[0, 1]\n",
    "print(corr)"
   ]
  },
  {
   "cell_type": "code",
   "execution_count": 64,
   "id": "2d67e872-5744-4f3f-8ea5-d1624424f570",
   "metadata": {},
   "outputs": [
    {
     "name": "stdout",
     "output_type": "stream",
     "text": [
      "[[19 22]\n",
      " [43 50]]\n"
     ]
    }
   ],
   "source": [
    "#64. Create two matrices and perform matrix multiplication using NumPy's 'dot' function.\n",
    "A = np.array([[1, 2], [3, 4]])\n",
    "B = np.array([[5, 6], [7, 8]])\n",
    "result = np.dot(A, B)\n",
    "print(result)"
   ]
  },
  {
   "cell_type": "code",
   "execution_count": 65,
   "id": "37d48fa2-ee95-47bd-bd92-6d7e6b585089",
   "metadata": {},
   "outputs": [
    {
     "name": "stdout",
     "output_type": "stream",
     "text": [
      "84.8 462.5 929.7 237.25 787.75\n"
     ]
    }
   ],
   "source": [
    "#65. Create an array of 50 integers between 10 and 1000. Calculate the 10th, 50th (median), and 90th percentiles along with the first and third quartiles.\n",
    "data = np.random.randint(10, 1001, 50)\n",
    "percentile_10 = np.percentile(data, 10)\n",
    "percentile_50 = np.percentile(data, 50)\n",
    "percentile_90 = np.percentile(data, 90)\n",
    "quartile_1 = np.percentile(data, 25)\n",
    "quartile_3 = np.percentile(data, 75)\n",
    "print(percentile_10, percentile_50, percentile_90, quartile_1, quartile_3)"
   ]
  },
  {
   "cell_type": "code",
   "execution_count": 66,
   "id": "a73ea20d-99ed-44a4-b2e8-13a01844c80d",
   "metadata": {},
   "outputs": [
    {
     "name": "stdout",
     "output_type": "stream",
     "text": [
      "2\n"
     ]
    }
   ],
   "source": [
    "#66. Create a NumPy array of integers and find the index of a specific element.\n",
    "arr = np.array([1, 2, 3, 4, 5])\n",
    "index = np.where(arr == 3)[0][0]\n",
    "print(index)"
   ]
  },
  {
   "cell_type": "code",
   "execution_count": 67,
   "id": "ff0678e0-cb9a-4431-9ba7-d12b86b6d45a",
   "metadata": {},
   "outputs": [
    {
     "name": "stdout",
     "output_type": "stream",
     "text": [
      "[16 19 23 25 30 34 46 68 74 90]\n"
     ]
    }
   ],
   "source": [
    "#67. Generate a random NumPy array and sort it in ascending order.\n",
    "arr = np.random.randint(1, 100, 10)\n",
    "sorted_arr = np.sort(arr)\n",
    "print(sorted_arr)"
   ]
  },
  {
   "cell_type": "code",
   "execution_count": 68,
   "id": "08fc2295-839d-4252-bc41-658dd755674a",
   "metadata": {},
   "outputs": [
    {
     "name": "stdout",
     "output_type": "stream",
     "text": [
      "[25 42 30]\n"
     ]
    }
   ],
   "source": [
    "#68. Filter elements >20 in the given NumPy array.\n",
    "arr = np.array([12, 25, 6, 42, 8, 30])\n",
    "filtered = arr[arr > 20]\n",
    "print(filtered)"
   ]
  },
  {
   "cell_type": "code",
   "execution_count": 69,
   "id": "95048e71-8910-4fce-8713-63cb77fd33a7",
   "metadata": {},
   "outputs": [
    {
     "name": "stdout",
     "output_type": "stream",
     "text": [
      "[12 15]\n"
     ]
    }
   ],
   "source": [
    "#69. Filter elements which are divisible by 3 from a given NumPy array.\n",
    "arr = np.array([1, 5, 8, 12, 15])\n",
    "filtered = arr[arr % 3 == 0]\n",
    "print(filtered)"
   ]
  },
  {
   "cell_type": "code",
   "execution_count": 70,
   "id": "bdb74701-3014-406e-9b9e-73a4f5a8cea9",
   "metadata": {},
   "outputs": [
    {
     "name": "stdout",
     "output_type": "stream",
     "text": [
      "[20 30 40]\n"
     ]
    }
   ],
   "source": [
    "#70. Filter elements which are >= 20 and <= 40 from a given NumPy array.\n",
    "arr = np.array([18, 20, 30, 40, 50])\n",
    "filtered = arr[(arr >= 20) & (arr <= 40)]\n",
    "print(filtered)"
   ]
  },
  {
   "cell_type": "code",
   "execution_count": 71,
   "id": "a3d657d3-bb0f-4479-890e-4a809b1a44b6",
   "metadata": {},
   "outputs": [
    {
     "name": "stdout",
     "output_type": "stream",
     "text": [
      "=\n"
     ]
    }
   ],
   "source": [
    "#71. For the given NumPy array, check its byte order using the \"dtype\" attribute byteorder.\n",
    "arr = np.array([1, 2, 3])\n",
    "print(arr.dtype.byteorder)"
   ]
  },
  {
   "cell_type": "code",
   "execution_count": 72,
   "id": "cf793a23-0573-4ad0-8544-6e28e2431c5c",
   "metadata": {},
   "outputs": [
    {
     "name": "stdout",
     "output_type": "stream",
     "text": [
      "[16777216 33554432 50331648]\n"
     ]
    }
   ],
   "source": [
    "#72. For the given NumPy array, perform byte swapping in place using 'byteswap()'.\n",
    "arr = np.array([1, 2, 3], dtype=np.int32)\n",
    "arr.byteswap(inplace=True)\n",
    "print(arr)"
   ]
  },
  {
   "cell_type": "code",
   "execution_count": 73,
   "id": "e580920d-c415-4cac-81ef-17e4abaaa9a9",
   "metadata": {},
   "outputs": [
    {
     "name": "stdout",
     "output_type": "stream",
     "text": [
      "[16777216 33554432 50331648]\n"
     ]
    }
   ],
   "source": [
    "#73. For the given NumPy array, swap its byte order without modifying the original array using newbyteorder().\n",
    "arr = np.array([1, 2, 3], dtype=np.int32)\n",
    "new_arr = arr.newbyteorder()\n",
    "print(new_arr)"
   ]
  },
  {
   "cell_type": "code",
   "execution_count": 74,
   "id": "b913e588-a541-4fd3-88d5-f53c3b4d835a",
   "metadata": {},
   "outputs": [
    {
     "name": "stdout",
     "output_type": "stream",
     "text": [
      "[1 2 3]\n"
     ]
    }
   ],
   "source": [
    "#74. For the given NumPy array, swap its byte order conditionally based on system endianness using newbyteorder().\n",
    "arr = np.array([1, 2, 3], dtype=np.int32)\n",
    "new_arr = arr.newbyteorder('>' if arr.dtype.byteorder == '<' else '<')\n",
    "print(new_arr)"
   ]
  },
  {
   "cell_type": "code",
   "execution_count": 75,
   "id": "b4065c42-7587-418c-84bb-6089c7ea6a39",
   "metadata": {},
   "outputs": [
    {
     "name": "stdout",
     "output_type": "stream",
     "text": [
      "False\n"
     ]
    }
   ],
   "source": [
    "#75. For the given NumPy array, check if byte swapping is necessary for the current system using dtype attribute byteorder.\n",
    "arr = np.array([1, 2, 3], dtype=np.int32)\n",
    "print(arr.dtype.byteorder != '=')"
   ]
  },
  {
   "cell_type": "code",
   "execution_count": 76,
   "id": "ee1d06f9-1063-48b6-8050-d50183b6534d",
   "metadata": {},
   "outputs": [
    {
     "name": "stdout",
     "output_type": "stream",
     "text": [
      "[ 1  2  3  4  5  6  7  8  9 10] [100   2   3   4   5   6   7   8   9  10]\n"
     ]
    }
   ],
   "source": [
    "#76. Create a NumPy array arr1 with values from 1 to 10. Create a copy of arr1 named 'copy_arr' and modify an element in 'copy_arr'. Check if modifying 'copy_arr' affects 'arr1'.\n",
    "arr1 = np.arange(1, 11)\n",
    "copy_arr = arr1.copy()\n",
    "copy_arr[0] = 100\n",
    "print(arr1, copy_arr)"
   ]
  },
  {
   "cell_type": "code",
   "execution_count": 77,
   "id": "2211f042-7715-49b3-8174-4497541af018",
   "metadata": {},
   "outputs": [
    {
     "name": "stdout",
     "output_type": "stream",
     "text": [
      "[[100   6   2]\n",
      " [  5   2   2]\n",
      " [  4   3   8]] [[100   6]\n",
      " [  5   2]]\n"
     ]
    }
   ],
   "source": [
    "#77. Create a 2D NumPy array 'matrix' of shape (3, 3) with random integers. Extract a slice 'view_slice' from the matrix. Modify an element in 'view_slice' and observe if it changes the original matrix.\n",
    "matrix = np.random.randint(1, 10, size=(3, 3))\n",
    "view_slice = matrix[:2, :2]\n",
    "view_slice[0, 0] = 100\n",
    "print(matrix, view_slice)"
   ]
  },
  {
   "cell_type": "code",
   "execution_count": 78,
   "id": "1fe077ef-5e98-4d71-807c-82ef9d63d822",
   "metadata": {},
   "outputs": [
    {
     "name": "stdout",
     "output_type": "stream",
     "text": [
      "[[ 6  7  3]\n",
      " [ 9 10  6]\n",
      " [ 7  8  9]\n",
      " [10 11 12]] [[ 6  7]\n",
      " [ 9 10]]\n"
     ]
    }
   ],
   "source": [
    "#78. Create a NumPy array 'array_a' of shape (4, 3) with sequential integers from 1 to 12. Extract a slice 'view_b' from 'array_a' and broadcast the addition of 5 to 'view_b'. Check if it alters the original 'array_a'.\n",
    "array_a = np.arange(1, 13).reshape(4, 3)\n",
    "view_b = array_a[:2, :2]\n",
    "view_b += 5\n",
    "print(array_a, view_b)"
   ]
  },
  {
   "cell_type": "code",
   "execution_count": 79,
   "id": "f56cb3fc-5c16-4090-bbcb-06654eef060f",
   "metadata": {},
   "outputs": [
    {
     "name": "stdout",
     "output_type": "stream",
     "text": [
      "[[100   2   3   4]\n",
      " [  5   6   7   8]] [[100   2]\n",
      " [  3   4]\n",
      " [  5   6]\n",
      " [  7   8]]\n"
     ]
    }
   ],
   "source": [
    "#79. Create a NumPy array 'orig_array' of shape (2, 4) with values from 1 to 8. Create a reshaped view 'reshaped_view' of shape (4, 2) from 'orig_array'. Modify an element in 'reshaped_view' and check if it reflects changes in the original 'orig_array'.\n",
    "orig_array = np.arange(1, 9).reshape(2, 4)\n",
    "reshaped_view = orig_array.reshape(4, 2)\n",
    "reshaped_view[0, 0] = 100\n",
    "print(orig_array, reshaped_view)"
   ]
  },
  {
   "cell_type": "code",
   "execution_count": 80,
   "id": "bfe56f62-997b-46d5-a284-fc3ac9cc5e98",
   "metadata": {},
   "outputs": [
    {
     "name": "stdout",
     "output_type": "stream",
     "text": [
      "[[9 8 9 6]\n",
      " [7 7 1 1]\n",
      " [9 1 9 7]] [100   8   9   6   7   7   9   9   7]\n"
     ]
    }
   ],
   "source": [
    "#80. Create a NumPy array 'data' of shape (3, 4) with random integers. Extract a copy 'data_copy' of elements greater than 5. Modify an element in 'data_copy' and verify if it affects the original 'data'.\n",
    "data = np.random.randint(1, 10, size=(3, 4))\n",
    "data_copy = data[data > 5].copy()\n",
    "data_copy[0] = 100\n",
    "print(data, data_copy)"
   ]
  },
  {
   "cell_type": "code",
   "execution_count": 81,
   "id": "3d556ab5-bdc3-452f-b83f-07f58b55d8b4",
   "metadata": {},
   "outputs": [
    {
     "name": "stdout",
     "output_type": "stream",
     "text": [
      "[[ 6  8]\n",
      " [10 12]] [[-4 -4]\n",
      " [-4 -4]]\n"
     ]
    }
   ],
   "source": [
    "#81. Create two matrices A and B of identical shape containing integers and perform addition and subtraction operations between them.\n",
    "A = np.array([[1, 2], [3, 4]])\n",
    "B = np.array([[5, 6], [7, 8]])\n",
    "add_result = A + B\n",
    "sub_result = A - B\n",
    "print(add_result, sub_result)"
   ]
  },
  {
   "cell_type": "code",
   "execution_count": 82,
   "id": "141916e1-3111-42b2-a0c4-c1ba720339a1",
   "metadata": {},
   "outputs": [
    {
     "name": "stdout",
     "output_type": "stream",
     "text": [
      "[[ 58  77  60 103]\n",
      " [ 26  48  38  66]\n",
      " [ 28  36  28  48]]\n"
     ]
    }
   ],
   "source": [
    "#82. Generate two matrices C (3x2) and D (2x4) and perform matrix multiplication.\n",
    "C = np.random.randint(1, 10, size=(3, 2))\n",
    "D = np.random.randint(1, 10, size=(2, 4))\n",
    "result = np.dot(C, D)\n",
    "print(result)"
   ]
  },
  {
   "cell_type": "code",
   "execution_count": 83,
   "id": "a204d660-7e62-453e-9cc5-2f84208c1bcc",
   "metadata": {},
   "outputs": [
    {
     "name": "stdout",
     "output_type": "stream",
     "text": [
      "[[2 4 1]\n",
      " [6 9 7]\n",
      " [2 3 2]]\n"
     ]
    }
   ],
   "source": [
    "#83. Create a matrix 'E' and find its transpose.\n",
    "E = np.random.randint(1, 10, size=(3, 3))\n",
    "transpose_E = np.transpose(E)\n",
    "print(transpose_E)"
   ]
  },
  {
   "cell_type": "code",
   "execution_count": 84,
   "id": "f12cdb6d-b5fd-4b53-9de1-b3e886fb8d96",
   "metadata": {},
   "outputs": [
    {
     "name": "stdout",
     "output_type": "stream",
     "text": [
      "76.0\n"
     ]
    }
   ],
   "source": [
    "#84. Generate a square matrix 'F' and compute its determinant.\n",
    "F = np.random.randint(1, 10, size=(3, 3))\n",
    "det_F = np.linalg.det(F)\n",
    "print(det_F)"
   ]
  },
  {
   "cell_type": "code",
   "execution_count": 85,
   "id": "ca0a7bac-3b69-4aa1-a227-018f9a1281e6",
   "metadata": {},
   "outputs": [
    {
     "name": "stdout",
     "output_type": "stream",
     "text": [
      "[[-2.   1. ]\n",
      " [ 1.5 -0.5]]\n"
     ]
    }
   ],
   "source": [
    "#85. Create a square matrix 'G' and find its inverse.\n",
    "G = np.array([[1, 2], [3, 4]])\n",
    "inverse_G = np.linalg.inv(G)\n",
    "print(inverse_G)"
   ]
  }
 ],
 "metadata": {
  "kernelspec": {
   "display_name": "Python 3 (ipykernel)",
   "language": "python",
   "name": "python3"
  },
  "language_info": {
   "codemirror_mode": {
    "name": "ipython",
    "version": 3
   },
   "file_extension": ".py",
   "mimetype": "text/x-python",
   "name": "python",
   "nbconvert_exporter": "python",
   "pygments_lexer": "ipython3",
   "version": "3.10.8"
  }
 },
 "nbformat": 4,
 "nbformat_minor": 5
}
